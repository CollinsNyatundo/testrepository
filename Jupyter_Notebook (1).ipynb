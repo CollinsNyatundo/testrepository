{
 "cells": [
  {
   "cell_type": "markdown",
   "metadata": {},
   "source": [
    "<center>\n",
    "    <img src=\"https://cf-courses-data.s3.us.cloud-object-storage.appdomain.cloud/IBMDeveloperSkillsNetwork-DS0105EN-SkillsNetwork/labs/Module2/images/SN_web_lightmode.png\" width=\"300\" alt=\"cognitiveclass.ai logo\">\n",
    "</center>\n"
   ]
  },
  {
   "cell_type": "markdown",
   "metadata": {},
   "source": [
    "#### Add your code below following the instructions given in the course\n"
   ]
  },
  {
   "cell_type": "markdown",
   "metadata": {},
   "source": [
    "PEER GRADED ASSIGNMENT IN IBM DATA SCIENCE PROFESSIONAL CERTIFICATE on Jupyterlite notebook."
   ]
  },
  {
   "cell_type": "markdown",
   "metadata": {},
   "source": [
    "INTRODUCTION.\n",
    "\n",
    "This notebook is part of my graded assignment to showcase my understanding of tools for data science and I hope it satisfies the requirements."
   ]
  },
  {
   "cell_type": "markdown",
   "metadata": {},
   "source": [
    "The objectives of this assignment are as follows:\n",
    "\n",
    "-Create a markdown cell with the title of the notebook.\n",
    "\n",
    "-Create a markdown cell for an introduction.\n",
    "\n",
    "-Create a markdown cell to list data science languages.\n",
    "\n",
    "-Create a markdown cell to list data science libraries.\n",
    "\n",
    "-Create a markdown cell with a table of Data Science tools.\n",
    "\n",
    "-Create a markdown cell introducing arithmetic expression examples.\n",
    "\n",
    "-Create a code cell to multiply and add numbers.\n",
    "\n",
    "-Create a code cell to convert minutes to hours.\n",
    "\n",
    "-Insert a markdown cell to list Objectives.\n",
    "\n",
    "-Create a markdown cell to indicate the Author’s name."
   ]
  },
  {
   "cell_type": "markdown",
   "metadata": {},
   "source": [
    "The following are the most commonly used languages for data science: Python, R and SQL. \n",
    "Other popular languages include: Java, Scala and, C++. \n",
    "Honorable mentions for languages used in unique use cases: Javascript, Ruby, PHP, Go, Visual Basic, "
   ]
  },
  {
   "cell_type": "markdown",
   "metadata": {},
   "source": [
    "The commonly used data science libraries are scientific computing libraries such as, Pandas, NumPy, SciPy, Matplotlib."
   ]
  },
  {
   "cell_type": "markdown",
   "metadata": {},
   "source": [
    "<table>\n",
    "  <thead>\n",
    "    <tr>\n",
    "      <th>Process</th>\n",
    "      <th>Data Science Tool</th>\n",
    "    </tr>\n",
    "  </thead>\n",
    "  <tbody>\n",
    "    <tr>\n",
    "      <td>Data Cleaning</td>\n",
    "      <td>pandas</td>\n",
    "    </tr>\n",
    "    <tr>\n",
    "      <td>Data Visualization</td>\n",
    "      <td>matplotlib</td>\n",
    "    </tr>\n",
    "    <tr>\n",
    "      <td>Machine Learning</td>\n",
    "      <td>scikit-learn</td>\n",
    "    </tr>\n",
    "    <tr>\n",
    "      <td>Deep Learning</td>\n",
    "      <td>TensorFlow</td>\n",
    "    </tr>\n",
    "    <tr>\n",
    "      <td>Natural Language Processing</td>\n",
    "      <td>NLTK</td>\n",
    "    </tr>\n",
    "  </tbody>\n",
    "</table>\n"
   ]
  },
  {
   "cell_type": "markdown",
   "metadata": {},
   "source": [
    "# Arithmetic expressions examples :\n",
    "\n",
    "# Addition\n",
    "2 + 3\n",
    "\n",
    "# Subtraction\n",
    "7 - 4\n",
    "\n",
    "# Multiplication\n",
    "5 * 6\n",
    "\n",
    "# Division\n",
    "10 / 2\n"
   ]
  },
  {
   "cell_type": "markdown",
   "metadata": {},
   "source": [
    "The following code written in Python programming language multiplies and adds two numbers."
   ]
  },
  {
   "cell_type": "code",
   "execution_count": 3,
   "metadata": {},
   "outputs": [
    {
     "name": "stdout",
     "output_type": "stream",
     "text": [
      "The result is: 2797\n"
     ]
    }
   ],
   "source": [
    "# Multiply and add two numbers\n",
    "num1 = 65\n",
    "num2 = 43\n",
    "result = num1 * num2 + 2\n",
    "\n",
    "# Print the result\n",
    "print(\"The result is:\", result)\n"
   ]
  },
  {
   "cell_type": "markdown",
   "metadata": {},
   "source": [
    "The following code written in Python programming language converts minutes to hours."
   ]
  },
  {
   "cell_type": "code",
   "execution_count": 4,
   "metadata": {},
   "outputs": [
    {
     "name": "stdout",
     "output_type": "stream",
     "text": [
      "120 minutes is equal to 2.0 hours\n"
     ]
    }
   ],
   "source": [
    "# Convert minutes to hours\n",
    "minutes = 120\n",
    "hours = minutes / 60\n",
    "\n",
    "# Print the result\n",
    "print(minutes, \"minutes is equal to\", hours, \"hours\")"
   ]
  },
  {
   "cell_type": "markdown",
   "metadata": {},
   "source": [
    "The author of this notebook is Mr. Collins Nyatundo."
   ]
  }
 ],
 "metadata": {
  "kernelspec": {
   "display_name": "Python",
   "language": "python",
   "name": "conda-env-python-py"
  },
  "language_info": {
   "codemirror_mode": {
    "name": "ipython",
    "version": 3
   },
   "file_extension": ".py",
   "mimetype": "text/x-python",
   "name": "python",
   "nbconvert_exporter": "python",
   "pygments_lexer": "ipython3",
   "version": "3.7.12"
  }
 },
 "nbformat": 4,
 "nbformat_minor": 4
}
